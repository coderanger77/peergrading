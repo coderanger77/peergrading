{
 "cells": [
  {
   "cell_type": "markdown",
   "metadata": {},
   "source": [
    "# Header"
   ]
  },
  {
   "cell_type": "code",
   "execution_count": 2,
   "metadata": {
    "collapsed": true
   },
   "outputs": [],
   "source": [
    "import pandas as pd \n",
    "import numpy as np\n",
    "from matplotlib import pyplot as plt\n",
    "\n",
    "def limit(x,min,max):\n",
    "    if(x<min):\n",
    "        return min;\n",
    "    if(x>max):\n",
    "        return max;\n",
    "    return x;"
   ]
  },
  {
   "cell_type": "markdown",
   "metadata": {},
   "source": [
    "## Initializations "
   ]
  },
  {
   "cell_type": "code",
   "execution_count": 6,
   "metadata": {
    "collapsed": true
   },
   "outputs": [],
   "source": [
    "df_true=pd.DataFrame(columns=['s','b','t'])\n",
    "student_count=100\n",
    "minmarks=0\n",
    "maxmarks=100\n",
    "no_of_grades=10\n",
    "mu_true=60\n",
    "sigma_true=15\n",
    "beta_true=10  #beta is actually 10. so when we use 1/beta , we are using 0.1 instead\n",
    "\n",
    "lambda_prior=1\n",
    "\n",
    "\n",
    "\n",
    "## intial priors for all the students.[beta,eta,mu,gama]\n",
    "\n",
    "intial_beta=1\n",
    "intial_eta=1\n",
    "intial_mu= 50\n",
    "intial_gama = 0.03333333333\n"
   ]
  },
  {
   "cell_type": "markdown",
   "metadata": {},
   "source": [
    "## ** True data (Simulator) **"
   ]
  },
  {
   "cell_type": "code",
   "execution_count": 9,
   "metadata": {
    "collapsed": false
   },
   "outputs": [
    {
     "name": "stdout",
     "output_type": "stream",
     "text": [
      "                s           b           t\n",
      "count  100.000000  100.000000  100.000000\n",
      "mean    62.517371   -0.288754   61.270421\n",
      "std     14.698423    6.804936   16.806185\n",
      "min     23.066644  -10.000000   25.188332\n",
      "25%     51.928547   -5.712049   51.184076\n",
      "50%     63.455788   -1.125459   62.026321\n",
      "75%     72.516917    5.624006   72.445902\n",
      "max     91.604193   10.000000  101.170467\n"
     ]
    }
   ],
   "source": [
    "#generate true values\n",
    "for u in range(0,student_count):   \n",
    "    #s_u true scores for each grader \n",
    "    su=np.random.normal(mu_true,sigma_true,1)[0]\n",
    "    su=limit(su,minmarks,maxmarks)\n",
    "        \n",
    "    #bias of each user ranges from -gradecount to +gradecount\n",
    "    bu=np.random.normal(0,no_of_grades,1)[0]\n",
    "    bu=limit(bu,-no_of_grades,no_of_grades)\n",
    "    \n",
    "    #t -> reliability\n",
    "    tu=np.random.normal(su,beta_true,1)[0]\n",
    "      \n",
    "    df_true.loc[u]=[su,bu,tu]\n",
    "\n",
    "print(df_true.describe())"
   ]
  },
  {
   "cell_type": "markdown",
   "metadata": {},
   "source": [
    "# prior Simulation  (kireeti)"
   ]
  },
  {
   "cell_type": "code",
   "execution_count": 10,
   "metadata": {
    "collapsed": false
   },
   "outputs": [],
   "source": [
    "#df_student_params contains s,b,t and parameters beta,eta,mu,gama, \n",
    "\n",
    "df_student_params=pd.DataFrame(columns=['id','s','b','t','beta','eta','mu','gama'])\n",
    "df_student_params['id']=df_student_params['id'].astype(int)\n",
    "\n",
    "df_student_params.dtypes\n",
    "\n",
    "for i in range(0,student_count):\n",
    "    \n",
    "    su=np.random.normal(intial_mu,1/intial_gama,1)[0]\n",
    "    su=limit(su,minmarks,maxmarks)\n",
    "    \n",
    "     #bias of each user ranges from 0-\n",
    "    bu=np.random.normal(0,no_of_grades,1)[0]\n",
    "    bu=limit(bu,-no_of_grades,no_of_grades)\n",
    "    \n",
    "    tu=np.random.normal(su,beta_true,1)[0]\n",
    "    \n"
   ]
  },
  {
   "cell_type": "markdown",
   "metadata": {},
   "source": [
    "## Prediction ##"
   ]
  },
  {
   "cell_type": "code",
   "execution_count": null,
   "metadata": {
    "collapsed": true
   },
   "outputs": [],
   "source": [
    "z[student_count][student_count]\n",
    "\n",
    "for v in range(0,student_count):\n",
    "    for u in range (0,student_count):\n",
    "        z[v][u]=np.random.normal(0+0,0,1)[0]\n",
    "        \n"
   ]
  },
  {
   "cell_type": "markdown",
   "metadata": {},
   "source": [
    "## Allocation"
   ]
  },
  {
   "cell_type": "code",
   "execution_count": null,
   "metadata": {
    "collapsed": true
   },
   "outputs": [],
   "source": []
  },
  {
   "cell_type": "markdown",
   "metadata": {},
   "source": [
    "## Simulation of actual z "
   ]
  },
  {
   "cell_type": "code",
   "execution_count": null,
   "metadata": {
    "collapsed": true
   },
   "outputs": [],
   "source": []
  },
  {
   "cell_type": "markdown",
   "metadata": {},
   "source": [
    "## PG5 update"
   ]
  },
  {
   "cell_type": "code",
   "execution_count": null,
   "metadata": {
    "collapsed": true
   },
   "outputs": [],
   "source": []
  }
 ],
 "metadata": {
  "celltoolbar": "Raw Cell Format",
  "kernelspec": {
   "display_name": "Python 3",
   "language": "python",
   "name": "python3"
  },
  "language_info": {
   "codemirror_mode": {
    "name": "ipython",
    "version": 3
   },
   "file_extension": ".py",
   "mimetype": "text/x-python",
   "name": "python",
   "nbconvert_exporter": "python",
   "pygments_lexer": "ipython3",
   "version": "3.5.1"
  }
 },
 "nbformat": 4,
 "nbformat_minor": 0
}
